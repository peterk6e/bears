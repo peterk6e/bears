{
 "cells": [
  {
   "cell_type": "code",
   "execution_count": 2,
   "metadata": {},
   "outputs": [],
   "source": [
    "from fastai.vision.all import *\n",
    "from fastai.vision.widgets import *"
   ]
  },
  {
   "cell_type": "code",
   "execution_count": 1,
   "metadata": {},
   "outputs": [],
   "source": [
    "import ipywidgets\n",
    "import ipyvuetify as v\n",
    "from threading import Timer"
   ]
  },
  {
   "cell_type": "code",
   "execution_count": 2,
   "metadata": {},
   "outputs": [
    {
     "data": {
      "application/vnd.jupyter.widget-view+json": {
       "model_id": "142c4445770a47729a61234e19e985c3",
       "version_major": 2,
       "version_minor": 0
      },
      "text/plain": [
       "Layout(children=[Btn(children=['button'])], class_='pa-2')"
      ]
     },
     "metadata": {},
     "output_type": "display_data"
    }
   ],
   "source": [
    "count = 0\n",
    "\n",
    "def on_click(widget, event, data):\n",
    "    global count\n",
    "    count += 1\n",
    "    button1.children=['button ' + str(count)]\n",
    "\n",
    "button1 = v.Btn(children=['button'])\n",
    "button1.on_event('click', on_click)\n",
    "\n",
    "v.Layout(class_='pa-2', children=[button1])"
   ]
  },
  {
   "cell_type": "code",
   "execution_count": 3,
   "metadata": {},
   "outputs": [
    {
     "data": {
      "application/vnd.jupyter.widget-view+json": {
       "model_id": "ab48f1ac3a0848aa8013d208bd3b70be",
       "version_major": 2,
       "version_minor": 0
      },
      "text/plain": [
       "Layout(children=[Btn(children=['primary'], class_='ma-2', color='primary'), Btn(children=['error'], class_='ma…"
      ]
     },
     "metadata": {},
     "output_type": "display_data"
    }
   ],
   "source": [
    "v.Layout(children=[\n",
    "    v.Btn(color='primary', class_='ma-2', children=['primary']),\n",
    "    v.Btn(color='error', class_='ma-2', children=['error']),\n",
    "    v.Btn(color='pink lighten-4', class_='ma-2', children=['custom']),\n",
    "    v.Btn(color='#654321', dark=True, class_='ma-2', children=['hex']),\n",
    "    v.Btn(color='#654321', disabled=True, class_='ma-2', children=['disabled']),\n",
    "\n",
    "])"
   ]
  },
  {
   "cell_type": "code",
   "execution_count": 5,
   "metadata": {},
   "outputs": [
    {
     "ename": "NameError",
     "evalue": "name 'lorum_ipsum' is not defined",
     "output_type": "error",
     "traceback": [
      "\u001b[1;31m---------------------------------------------------------------------------\u001b[0m",
      "\u001b[1;31mNameError\u001b[0m                                 Traceback (most recent call last)",
      "\u001b[1;32m<ipython-input-5-a5cc53f11f0e>\u001b[0m in \u001b[0;36m<module>\u001b[1;34m\u001b[0m\n\u001b[0;32m     13\u001b[0m             ]),\n\u001b[0;32m     14\u001b[0m             v.CardText(children=[\n\u001b[1;32m---> 15\u001b[1;33m                 \u001b[0mlorum_ipsum\u001b[0m\u001b[1;33m,\u001b[0m\u001b[1;33m\u001b[0m\u001b[1;33m\u001b[0m\u001b[0m\n\u001b[0m\u001b[0;32m     16\u001b[0m                 \u001b[0mv\u001b[0m\u001b[1;33m.\u001b[0m\u001b[0mTextField\u001b[0m\u001b[1;33m(\u001b[0m\u001b[0mlabel\u001b[0m\u001b[1;33m=\u001b[0m\u001b[1;34m'Label'\u001b[0m\u001b[1;33m,\u001b[0m \u001b[0mplaceholder\u001b[0m\u001b[1;33m=\u001b[0m\u001b[1;34m'Placeholder'\u001b[0m\u001b[1;33m)\u001b[0m\u001b[1;33m\u001b[0m\u001b[1;33m\u001b[0m\u001b[0m\n\u001b[0;32m     17\u001b[0m             ]),\n",
      "\u001b[1;31mNameError\u001b[0m: name 'lorum_ipsum' is not defined"
     ]
    }
   ],
   "source": []
  },
  {
   "cell_type": "code",
   "execution_count": null,
   "metadata": {},
   "outputs": [],
   "source": [
    "path = Path()"
   ]
  },
  {
   "cell_type": "code",
   "execution_count": null,
   "metadata": {},
   "outputs": [],
   "source": [
    "import re\n",
    "def wh_room(x): \n",
    "    if re.search(\"bath\", x):\n",
    "        return 'bathroom'\n",
    "    elif re.search(\"living\", x):\n",
    "        return 'living room'\n",
    "    elif re.search(\"kitchen\", x):\n",
    "        return 'kitchen'\n",
    "    elif re.search(\"din\", x):\n",
    "        return 'dining room'\n",
    "    elif re.search(\"bed\", x):\n",
    "        return 'bedroom'\n",
    "    else:\n",
    "        return 'unknown'\n",
    "\n",
    "learn_inf = load_learner(path/'trained_model2.pkl', cpu=True)"
   ]
  },
  {
   "cell_type": "code",
   "execution_count": null,
   "metadata": {},
   "outputs": [],
   "source": [
    "btn_upload = widgets.FileUpload()"
   ]
  },
  {
   "cell_type": "code",
   "execution_count": null,
   "metadata": {},
   "outputs": [],
   "source": [
    "out_pl = widgets.Output()"
   ]
  },
  {
   "cell_type": "code",
   "execution_count": null,
   "metadata": {},
   "outputs": [],
   "source": [
    "lbl_pred = widgets.Label()"
   ]
  },
  {
   "cell_type": "code",
   "execution_count": null,
   "metadata": {},
   "outputs": [],
   "source": [
    "def on_click(change):\n",
    "    img = PILImage.create(btn_upload.data[-1])\n",
    "    out_pl.clear_output()\n",
    "    with out_pl: display(img.to_thumb(512,512))\n",
    "    pred,pred_idx,probs = learn_inf.predict(img)\n",
    "    lbl_pred.value = f'Prediction: {pred}; Probability: {probs[pred_idx]:.04f}'"
   ]
  },
  {
   "cell_type": "code",
   "execution_count": null,
   "metadata": {},
   "outputs": [],
   "source": [
    "btn_upload.observe(on_click,names=['data'])"
   ]
  },
  {
   "cell_type": "code",
   "execution_count": null,
   "metadata": {},
   "outputs": [],
   "source": [
    "desLbl = widgets.Label('What is this room ?')"
   ]
  },
  {
   "cell_type": "markdown",
   "metadata": {},
   "source": [
    "After decades of work by thousands of insanely smartest people in the world,\n",
    "We are proud to present you with a rare piece of technology that enables you to\n",
    "determine the type of room.\n",
    "***"
   ]
  },
  {
   "cell_type": "code",
   "execution_count": null,
   "metadata": {},
   "outputs": [],
   "source": [
    "display(VBox([desLbl, \n",
    "      btn_upload, out_pl, lbl_pred]))"
   ]
  }
 ],
 "metadata": {
  "kernelspec": {
   "display_name": "Python 3",
   "language": "python",
   "name": "python3"
  },
  "language_info": {
   "codemirror_mode": {
    "name": "ipython",
    "version": 3
   },
   "file_extension": ".py",
   "mimetype": "text/x-python",
   "name": "python",
   "nbconvert_exporter": "python",
   "pygments_lexer": "ipython3",
   "version": "3.8.10"
  }
 },
 "nbformat": 4,
 "nbformat_minor": 4
}
